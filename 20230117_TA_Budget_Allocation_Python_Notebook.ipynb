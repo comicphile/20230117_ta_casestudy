{
 "cells": [
  {
   "cell_type": "markdown",
   "metadata": {},
   "source": [
    "# Loading the budget details for pre-processing\n",
    "Created a dataframe to populate the campaign details from the case study, standardized the column names and checked the data for missing values"
   ]
  },
  {
   "cell_type": "code",
   "execution_count": 93,
   "metadata": {},
   "outputs": [],
   "source": [
    "import pandas as pd\n",
    "import numpy as np\n",
    "import seaborn as sns\n",
    "from scipy import stats\n",
    "from sklearn import preprocessing\n",
    "import matplotlib.pyplot as plt \n",
    "plt.rc(\"font\", size=14)\n",
    "from sklearn.linear_model import LogisticRegression\n",
    "from sklearn.model_selection import train_test_split\n",
    "import seaborn as sns\n",
    "sns.set(style=\"white\")\n",
    "sns.set(style=\"whitegrid\", color_codes=True)\n",
    "import statsmodels.api as sm"
   ]
  },
  {
   "cell_type": "code",
   "execution_count": 94,
   "metadata": {},
   "outputs": [],
   "source": [
    "df_campaign = pd.read_excel('TA_Budget_Allocation_Dataset.xlsx') #filename updated for analysis "
   ]
  },
  {
   "cell_type": "code",
   "execution_count": 95,
   "metadata": {},
   "outputs": [
    {
     "data": {
      "text/html": [
       "<div>\n",
       "<style scoped>\n",
       "    .dataframe tbody tr th:only-of-type {\n",
       "        vertical-align: middle;\n",
       "    }\n",
       "\n",
       "    .dataframe tbody tr th {\n",
       "        vertical-align: top;\n",
       "    }\n",
       "\n",
       "    .dataframe thead th {\n",
       "        text-align: right;\n",
       "    }\n",
       "</style>\n",
       "<table border=\"1\" class=\"dataframe\">\n",
       "  <thead>\n",
       "    <tr style=\"text-align: right;\">\n",
       "      <th></th>\n",
       "      <th>PRDT TYPE</th>\n",
       "      <th>BRAND</th>\n",
       "      <th>MILESTONE</th>\n",
       "      <th>TARGET_GROUP</th>\n",
       "      <th>CAMPAIGN_MONTH</th>\n",
       "      <th>SELECTED_QTY</th>\n",
       "      <th>MAILED_COUNT</th>\n",
       "      <th>RESPONSE_COUNT</th>\n",
       "      <th>RESPONSE_SALES_AMT</th>\n",
       "      <th>CUST_SEGMENT</th>\n",
       "    </tr>\n",
       "  </thead>\n",
       "  <tbody>\n",
       "    <tr>\n",
       "      <th>0</th>\n",
       "      <td>Prdt-1</td>\n",
       "      <td>B</td>\n",
       "      <td>12 Months</td>\n",
       "      <td>Targeted</td>\n",
       "      <td>AUGUST</td>\n",
       "      <td>809</td>\n",
       "      <td>809</td>\n",
       "      <td>98</td>\n",
       "      <td>23323.47</td>\n",
       "      <td>CLClubInvite12</td>\n",
       "    </tr>\n",
       "    <tr>\n",
       "      <th>1</th>\n",
       "      <td>Prdt-1</td>\n",
       "      <td>B</td>\n",
       "      <td>12 Months</td>\n",
       "      <td>Control</td>\n",
       "      <td>AUGUST</td>\n",
       "      <td>90</td>\n",
       "      <td>90</td>\n",
       "      <td>3</td>\n",
       "      <td>686.98</td>\n",
       "      <td>CLClubInvite12Control</td>\n",
       "    </tr>\n",
       "    <tr>\n",
       "      <th>2</th>\n",
       "      <td>Prdt-1</td>\n",
       "      <td>B</td>\n",
       "      <td>12 Months</td>\n",
       "      <td>Targeted</td>\n",
       "      <td>AUGUST</td>\n",
       "      <td>1769</td>\n",
       "      <td>1769</td>\n",
       "      <td>142</td>\n",
       "      <td>30641.22</td>\n",
       "      <td>CLRecall12</td>\n",
       "    </tr>\n",
       "    <tr>\n",
       "      <th>3</th>\n",
       "      <td>Prdt-1</td>\n",
       "      <td>B</td>\n",
       "      <td>12 Months</td>\n",
       "      <td>Control</td>\n",
       "      <td>AUGUST</td>\n",
       "      <td>196</td>\n",
       "      <td>196</td>\n",
       "      <td>16</td>\n",
       "      <td>3261.56</td>\n",
       "      <td>CLRecall12Control</td>\n",
       "    </tr>\n",
       "    <tr>\n",
       "      <th>4</th>\n",
       "      <td>Prdt-1</td>\n",
       "      <td>B</td>\n",
       "      <td>12 Months</td>\n",
       "      <td>Targeted</td>\n",
       "      <td>AUGUST</td>\n",
       "      <td>205</td>\n",
       "      <td>205</td>\n",
       "      <td>16</td>\n",
       "      <td>2848.48</td>\n",
       "      <td>CLRecallTXandCA12</td>\n",
       "    </tr>\n",
       "  </tbody>\n",
       "</table>\n",
       "</div>"
      ],
      "text/plain": [
       "  PRDT TYPE BRAND  MILESTONE TARGET_GROUP CAMPAIGN_MONTH  SELECTED_QTY  \\\n",
       "0    Prdt-1     B  12 Months     Targeted         AUGUST           809   \n",
       "1    Prdt-1     B  12 Months      Control         AUGUST            90   \n",
       "2    Prdt-1     B  12 Months     Targeted         AUGUST          1769   \n",
       "3    Prdt-1     B  12 Months      Control         AUGUST           196   \n",
       "4    Prdt-1     B  12 Months     Targeted         AUGUST           205   \n",
       "\n",
       "   MAILED_COUNT  RESPONSE_COUNT  RESPONSE_SALES_AMT           CUST_SEGMENT  \n",
       "0           809              98            23323.47         CLClubInvite12  \n",
       "1            90               3              686.98  CLClubInvite12Control  \n",
       "2          1769             142            30641.22             CLRecall12  \n",
       "3           196              16             3261.56      CLRecall12Control  \n",
       "4           205              16             2848.48      CLRecallTXandCA12  "
      ]
     },
     "execution_count": 95,
     "metadata": {},
     "output_type": "execute_result"
    }
   ],
   "source": [
    "df_campaign.head()"
   ]
  },
  {
   "cell_type": "code",
   "execution_count": 96,
   "metadata": {},
   "outputs": [
    {
     "data": {
      "text/html": [
       "<div>\n",
       "<style scoped>\n",
       "    .dataframe tbody tr th:only-of-type {\n",
       "        vertical-align: middle;\n",
       "    }\n",
       "\n",
       "    .dataframe tbody tr th {\n",
       "        vertical-align: top;\n",
       "    }\n",
       "\n",
       "    .dataframe thead th {\n",
       "        text-align: right;\n",
       "    }\n",
       "</style>\n",
       "<table border=\"1\" class=\"dataframe\">\n",
       "  <thead>\n",
       "    <tr style=\"text-align: right;\">\n",
       "      <th></th>\n",
       "      <th>PRDT TYPE</th>\n",
       "      <th>BRAND</th>\n",
       "      <th>MILESTONE</th>\n",
       "      <th>TARGET_GROUP</th>\n",
       "      <th>CAMPAIGN_MONTH</th>\n",
       "      <th>SELECTED_QTY</th>\n",
       "      <th>MAILED_COUNT</th>\n",
       "      <th>RESPONSE_COUNT</th>\n",
       "      <th>RESPONSE_SALES_AMT</th>\n",
       "      <th>CUST_SEGMENT</th>\n",
       "    </tr>\n",
       "  </thead>\n",
       "  <tbody>\n",
       "    <tr>\n",
       "      <th>2355</th>\n",
       "      <td>Prdt-2</td>\n",
       "      <td>E</td>\n",
       "      <td>27 Months</td>\n",
       "      <td>Control</td>\n",
       "      <td>OCTOBER</td>\n",
       "      <td>794</td>\n",
       "      <td>1</td>\n",
       "      <td>0</td>\n",
       "      <td>0.00</td>\n",
       "      <td>RecallNONFirstSight-CG</td>\n",
       "    </tr>\n",
       "    <tr>\n",
       "      <th>2356</th>\n",
       "      <td>Prdt-2</td>\n",
       "      <td>E</td>\n",
       "      <td>27 Months</td>\n",
       "      <td>Targeted</td>\n",
       "      <td>OCTOBER</td>\n",
       "      <td>64494</td>\n",
       "      <td>36</td>\n",
       "      <td>0</td>\n",
       "      <td>0.00</td>\n",
       "      <td>RecallNONFirstSight-TG</td>\n",
       "    </tr>\n",
       "    <tr>\n",
       "      <th>2357</th>\n",
       "      <td>Prdt-2</td>\n",
       "      <td>E</td>\n",
       "      <td>27 Months</td>\n",
       "      <td>Targeted</td>\n",
       "      <td>OCTOBER</td>\n",
       "      <td>71670</td>\n",
       "      <td>34</td>\n",
       "      <td>0</td>\n",
       "      <td>0.00</td>\n",
       "      <td>RecallNONFirstSight-TG</td>\n",
       "    </tr>\n",
       "    <tr>\n",
       "      <th>2358</th>\n",
       "      <td>Prdt-2</td>\n",
       "      <td>E</td>\n",
       "      <td>27 Months</td>\n",
       "      <td>Targeted</td>\n",
       "      <td>OCTOBER</td>\n",
       "      <td>94402</td>\n",
       "      <td>1313</td>\n",
       "      <td>6</td>\n",
       "      <td>398.00</td>\n",
       "      <td>RecallNONFirstSight-TG</td>\n",
       "    </tr>\n",
       "    <tr>\n",
       "      <th>2359</th>\n",
       "      <td>Prdt-2</td>\n",
       "      <td>E</td>\n",
       "      <td>27 Months</td>\n",
       "      <td>Targeted</td>\n",
       "      <td>OCTOBER</td>\n",
       "      <td>102984</td>\n",
       "      <td>1305</td>\n",
       "      <td>4</td>\n",
       "      <td>307.48</td>\n",
       "      <td>RecallNONFirstSight-TG</td>\n",
       "    </tr>\n",
       "  </tbody>\n",
       "</table>\n",
       "</div>"
      ],
      "text/plain": [
       "     PRDT TYPE BRAND  MILESTONE TARGET_GROUP CAMPAIGN_MONTH  SELECTED_QTY  \\\n",
       "2355    Prdt-2     E  27 Months      Control        OCTOBER           794   \n",
       "2356    Prdt-2     E  27 Months     Targeted        OCTOBER         64494   \n",
       "2357    Prdt-2     E  27 Months     Targeted        OCTOBER         71670   \n",
       "2358    Prdt-2     E  27 Months     Targeted        OCTOBER         94402   \n",
       "2359    Prdt-2     E  27 Months     Targeted        OCTOBER        102984   \n",
       "\n",
       "      MAILED_COUNT  RESPONSE_COUNT  RESPONSE_SALES_AMT            CUST_SEGMENT  \n",
       "2355             1               0                0.00  RecallNONFirstSight-CG  \n",
       "2356            36               0                0.00  RecallNONFirstSight-TG  \n",
       "2357            34               0                0.00  RecallNONFirstSight-TG  \n",
       "2358          1313               6              398.00  RecallNONFirstSight-TG  \n",
       "2359          1305               4              307.48  RecallNONFirstSight-TG  "
      ]
     },
     "execution_count": 96,
     "metadata": {},
     "output_type": "execute_result"
    }
   ],
   "source": [
    "df_campaign.tail()"
   ]
  },
  {
   "cell_type": "code",
   "execution_count": 97,
   "metadata": {},
   "outputs": [],
   "source": [
    "df_campaign.columns = df_campaign.columns.str.lower()"
   ]
  },
  {
   "cell_type": "code",
   "execution_count": 98,
   "metadata": {},
   "outputs": [
    {
     "data": {
      "text/html": [
       "<div>\n",
       "<style scoped>\n",
       "    .dataframe tbody tr th:only-of-type {\n",
       "        vertical-align: middle;\n",
       "    }\n",
       "\n",
       "    .dataframe tbody tr th {\n",
       "        vertical-align: top;\n",
       "    }\n",
       "\n",
       "    .dataframe thead th {\n",
       "        text-align: right;\n",
       "    }\n",
       "</style>\n",
       "<table border=\"1\" class=\"dataframe\">\n",
       "  <thead>\n",
       "    <tr style=\"text-align: right;\">\n",
       "      <th></th>\n",
       "      <th>prdt_type</th>\n",
       "      <th>brand</th>\n",
       "      <th>milestone</th>\n",
       "      <th>target_group</th>\n",
       "      <th>campaign_month</th>\n",
       "      <th>selected_qty</th>\n",
       "      <th>mailed_count</th>\n",
       "      <th>response_count</th>\n",
       "      <th>response_sales_amt</th>\n",
       "      <th>cust_segment</th>\n",
       "    </tr>\n",
       "  </thead>\n",
       "  <tbody>\n",
       "    <tr>\n",
       "      <th>0</th>\n",
       "      <td>Prdt-1</td>\n",
       "      <td>B</td>\n",
       "      <td>12 Months</td>\n",
       "      <td>Targeted</td>\n",
       "      <td>AUGUST</td>\n",
       "      <td>809</td>\n",
       "      <td>809</td>\n",
       "      <td>98</td>\n",
       "      <td>23323.47</td>\n",
       "      <td>CLClubInvite12</td>\n",
       "    </tr>\n",
       "    <tr>\n",
       "      <th>1</th>\n",
       "      <td>Prdt-1</td>\n",
       "      <td>B</td>\n",
       "      <td>12 Months</td>\n",
       "      <td>Control</td>\n",
       "      <td>AUGUST</td>\n",
       "      <td>90</td>\n",
       "      <td>90</td>\n",
       "      <td>3</td>\n",
       "      <td>686.98</td>\n",
       "      <td>CLClubInvite12Control</td>\n",
       "    </tr>\n",
       "    <tr>\n",
       "      <th>2</th>\n",
       "      <td>Prdt-1</td>\n",
       "      <td>B</td>\n",
       "      <td>12 Months</td>\n",
       "      <td>Targeted</td>\n",
       "      <td>AUGUST</td>\n",
       "      <td>1769</td>\n",
       "      <td>1769</td>\n",
       "      <td>142</td>\n",
       "      <td>30641.22</td>\n",
       "      <td>CLRecall12</td>\n",
       "    </tr>\n",
       "    <tr>\n",
       "      <th>3</th>\n",
       "      <td>Prdt-1</td>\n",
       "      <td>B</td>\n",
       "      <td>12 Months</td>\n",
       "      <td>Control</td>\n",
       "      <td>AUGUST</td>\n",
       "      <td>196</td>\n",
       "      <td>196</td>\n",
       "      <td>16</td>\n",
       "      <td>3261.56</td>\n",
       "      <td>CLRecall12Control</td>\n",
       "    </tr>\n",
       "    <tr>\n",
       "      <th>4</th>\n",
       "      <td>Prdt-1</td>\n",
       "      <td>B</td>\n",
       "      <td>12 Months</td>\n",
       "      <td>Targeted</td>\n",
       "      <td>AUGUST</td>\n",
       "      <td>205</td>\n",
       "      <td>205</td>\n",
       "      <td>16</td>\n",
       "      <td>2848.48</td>\n",
       "      <td>CLRecallTXandCA12</td>\n",
       "    </tr>\n",
       "  </tbody>\n",
       "</table>\n",
       "</div>"
      ],
      "text/plain": [
       "  prdt_type brand  milestone target_group campaign_month  selected_qty  \\\n",
       "0    Prdt-1     B  12 Months     Targeted         AUGUST           809   \n",
       "1    Prdt-1     B  12 Months      Control         AUGUST            90   \n",
       "2    Prdt-1     B  12 Months     Targeted         AUGUST          1769   \n",
       "3    Prdt-1     B  12 Months      Control         AUGUST           196   \n",
       "4    Prdt-1     B  12 Months     Targeted         AUGUST           205   \n",
       "\n",
       "   mailed_count  response_count  response_sales_amt           cust_segment  \n",
       "0           809              98            23323.47         CLClubInvite12  \n",
       "1            90               3              686.98  CLClubInvite12Control  \n",
       "2          1769             142            30641.22             CLRecall12  \n",
       "3           196              16             3261.56      CLRecall12Control  \n",
       "4           205              16             2848.48      CLRecallTXandCA12  "
      ]
     },
     "execution_count": 98,
     "metadata": {},
     "output_type": "execute_result"
    }
   ],
   "source": [
    "df_campaign.rename(columns = {'prdt type':'prdt_type'}, inplace = True)\n",
    "df_campaign.head()"
   ]
  },
  {
   "cell_type": "code",
   "execution_count": 9,
   "metadata": {},
   "outputs": [
    {
     "data": {
      "text/plain": [
       "prdt_type             0\n",
       "brand                 0\n",
       "milestone             0\n",
       "target_group          0\n",
       "campaign_month        0\n",
       "selected_qty          0\n",
       "mailed_count          0\n",
       "response_count        0\n",
       "response_sales_amt    0\n",
       "cust_segment          0\n",
       "dtype: int64"
      ]
     },
     "execution_count": 9,
     "metadata": {},
     "output_type": "execute_result"
    }
   ],
   "source": [
    "df_campaign.isna().sum()"
   ]
  },
  {
   "cell_type": "markdown",
   "metadata": {},
   "source": [
    "No missing values found"
   ]
  },
  {
   "cell_type": "markdown",
   "metadata": {},
   "source": [
    "# Exploratory Data Analysis"
   ]
  },
  {
   "cell_type": "code",
   "execution_count": 99,
   "metadata": {},
   "outputs": [
    {
     "name": "stdout",
     "output_type": "stream",
     "text": [
      "<class 'pandas.core.frame.DataFrame'>\n",
      "RangeIndex: 2360 entries, 0 to 2359\n",
      "Data columns (total 10 columns):\n",
      "prdt_type             2360 non-null object\n",
      "brand                 2360 non-null object\n",
      "milestone             2360 non-null object\n",
      "target_group          2360 non-null object\n",
      "campaign_month        2360 non-null object\n",
      "selected_qty          2360 non-null int64\n",
      "mailed_count          2360 non-null int64\n",
      "response_count        2360 non-null int64\n",
      "response_sales_amt    2360 non-null float64\n",
      "cust_segment          2360 non-null object\n",
      "dtypes: float64(1), int64(3), object(6)\n",
      "memory usage: 184.5+ KB\n"
     ]
    }
   ],
   "source": [
    "df_campaign.info()"
   ]
  },
  {
   "cell_type": "code",
   "execution_count": 100,
   "metadata": {},
   "outputs": [
    {
     "data": {
      "text/html": [
       "<div>\n",
       "<style scoped>\n",
       "    .dataframe tbody tr th:only-of-type {\n",
       "        vertical-align: middle;\n",
       "    }\n",
       "\n",
       "    .dataframe tbody tr th {\n",
       "        vertical-align: top;\n",
       "    }\n",
       "\n",
       "    .dataframe thead th {\n",
       "        text-align: right;\n",
       "    }\n",
       "</style>\n",
       "<table border=\"1\" class=\"dataframe\">\n",
       "  <thead>\n",
       "    <tr style=\"text-align: right;\">\n",
       "      <th></th>\n",
       "      <th>selected_qty</th>\n",
       "      <th>mailed_count</th>\n",
       "      <th>response_count</th>\n",
       "      <th>response_sales_amt</th>\n",
       "    </tr>\n",
       "  </thead>\n",
       "  <tbody>\n",
       "    <tr>\n",
       "      <th>count</th>\n",
       "      <td>2.360000e+03</td>\n",
       "      <td>2360.000000</td>\n",
       "      <td>2360.000000</td>\n",
       "      <td>2360.000000</td>\n",
       "    </tr>\n",
       "    <tr>\n",
       "      <th>mean</th>\n",
       "      <td>1.438556e+04</td>\n",
       "      <td>1361.769915</td>\n",
       "      <td>46.643644</td>\n",
       "      <td>10063.757712</td>\n",
       "    </tr>\n",
       "    <tr>\n",
       "      <th>std</th>\n",
       "      <td>1.165510e+05</td>\n",
       "      <td>2557.967184</td>\n",
       "      <td>111.125220</td>\n",
       "      <td>23826.166367</td>\n",
       "    </tr>\n",
       "    <tr>\n",
       "      <th>min</th>\n",
       "      <td>6.000000e+00</td>\n",
       "      <td>1.000000</td>\n",
       "      <td>0.000000</td>\n",
       "      <td>0.000000</td>\n",
       "    </tr>\n",
       "    <tr>\n",
       "      <th>25%</th>\n",
       "      <td>3.167500e+02</td>\n",
       "      <td>146.000000</td>\n",
       "      <td>3.000000</td>\n",
       "      <td>684.052500</td>\n",
       "    </tr>\n",
       "    <tr>\n",
       "      <th>50%</th>\n",
       "      <td>1.474000e+03</td>\n",
       "      <td>365.500000</td>\n",
       "      <td>12.000000</td>\n",
       "      <td>2642.230000</td>\n",
       "    </tr>\n",
       "    <tr>\n",
       "      <th>75%</th>\n",
       "      <td>6.698250e+03</td>\n",
       "      <td>1491.000000</td>\n",
       "      <td>43.000000</td>\n",
       "      <td>9875.657500</td>\n",
       "    </tr>\n",
       "    <tr>\n",
       "      <th>max</th>\n",
       "      <td>2.599002e+06</td>\n",
       "      <td>24341.000000</td>\n",
       "      <td>2541.000000</td>\n",
       "      <td>572875.430000</td>\n",
       "    </tr>\n",
       "  </tbody>\n",
       "</table>\n",
       "</div>"
      ],
      "text/plain": [
       "       selected_qty  mailed_count  response_count  response_sales_amt\n",
       "count  2.360000e+03   2360.000000     2360.000000         2360.000000\n",
       "mean   1.438556e+04   1361.769915       46.643644        10063.757712\n",
       "std    1.165510e+05   2557.967184      111.125220        23826.166367\n",
       "min    6.000000e+00      1.000000        0.000000            0.000000\n",
       "25%    3.167500e+02    146.000000        3.000000          684.052500\n",
       "50%    1.474000e+03    365.500000       12.000000         2642.230000\n",
       "75%    6.698250e+03   1491.000000       43.000000         9875.657500\n",
       "max    2.599002e+06  24341.000000     2541.000000       572875.430000"
      ]
     },
     "execution_count": 100,
     "metadata": {},
     "output_type": "execute_result"
    }
   ],
   "source": [
    "df_campaign.describe()"
   ]
  },
  {
   "cell_type": "code",
   "execution_count": 101,
   "metadata": {},
   "outputs": [
    {
     "name": "stdout",
     "output_type": "stream",
     "text": [
      "216.0355742799571   213.0812964756003\n"
     ]
    }
   ],
   "source": [
    "print((df_campaign[df_campaign[\"target_group\"] == 'Targeted'][\"response_sales_amt\"].sum())/(df_campaign[df_campaign[\"target_group\"] == 'Targeted'][\"response_count\"].sum()),\" \",\n",
    "(df_campaign[df_campaign[\"target_group\"] == 'Control'][\"response_sales_amt\"].sum())/(df_campaign[df_campaign[\"target_group\"] == 'Control'][\"response_count\"].sum()))"
   ]
  },
  {
   "cell_type": "markdown",
   "metadata": {},
   "source": [
    "On an average 'Targeted group' (~216.04) has higher average sale value for each response than that for 'Control group' (~213.08)"
   ]
  },
  {
   "cell_type": "code",
   "execution_count": 102,
   "metadata": {},
   "outputs": [
    {
     "name": "stdout",
     "output_type": "stream",
     "text": [
      "0.034449176146282685   0.03245981808924564\n"
     ]
    }
   ],
   "source": [
    "print((df_campaign[df_campaign[\"target_group\"] == 'Targeted'][\"response_count\"].sum())/(df_campaign[df_campaign[\"target_group\"] == 'Targeted'][\"mailed_count\"].sum()),\" \",\n",
    "(df_campaign[df_campaign[\"target_group\"] == 'Control'][\"response_count\"].sum())/(df_campaign[df_campaign[\"target_group\"] == 'Control'][\"mailed_count\"].sum()))"
   ]
  },
  {
   "cell_type": "markdown",
   "metadata": {},
   "source": [
    "On an average 'Targeted group' (~3.4%) has higher response rate for each response than that for 'Control group' (~3.2%)"
   ]
  },
  {
   "cell_type": "code",
   "execution_count": 103,
   "metadata": {},
   "outputs": [
    {
     "data": {
      "text/html": [
       "<div>\n",
       "<style scoped>\n",
       "    .dataframe tbody tr th:only-of-type {\n",
       "        vertical-align: middle;\n",
       "    }\n",
       "\n",
       "    .dataframe tbody tr th {\n",
       "        vertical-align: top;\n",
       "    }\n",
       "\n",
       "    .dataframe thead th {\n",
       "        text-align: right;\n",
       "    }\n",
       "</style>\n",
       "<table border=\"1\" class=\"dataframe\">\n",
       "  <thead>\n",
       "    <tr style=\"text-align: right;\">\n",
       "      <th>milestone</th>\n",
       "      <th>12 Months</th>\n",
       "      <th>15 Months</th>\n",
       "      <th>18 Months</th>\n",
       "      <th>21 Months</th>\n",
       "      <th>24 Months</th>\n",
       "      <th>27 Months</th>\n",
       "    </tr>\n",
       "    <tr>\n",
       "      <th>target_group</th>\n",
       "      <th></th>\n",
       "      <th></th>\n",
       "      <th></th>\n",
       "      <th></th>\n",
       "      <th></th>\n",
       "      <th></th>\n",
       "    </tr>\n",
       "  </thead>\n",
       "  <tbody>\n",
       "    <tr>\n",
       "      <th>Control</th>\n",
       "      <td>186</td>\n",
       "      <td>186</td>\n",
       "      <td>238</td>\n",
       "      <td>186</td>\n",
       "      <td>237</td>\n",
       "      <td>147</td>\n",
       "    </tr>\n",
       "    <tr>\n",
       "      <th>Targeted</th>\n",
       "      <td>186</td>\n",
       "      <td>186</td>\n",
       "      <td>238</td>\n",
       "      <td>186</td>\n",
       "      <td>237</td>\n",
       "      <td>147</td>\n",
       "    </tr>\n",
       "  </tbody>\n",
       "</table>\n",
       "</div>"
      ],
      "text/plain": [
       "milestone     12 Months  15 Months  18 Months  21 Months  24 Months  27 Months\n",
       "target_group                                                                  \n",
       "Control             186        186        238        186        237        147\n",
       "Targeted            186        186        238        186        237        147"
      ]
     },
     "execution_count": 103,
     "metadata": {},
     "output_type": "execute_result"
    }
   ],
   "source": [
    "pd.crosstab(df_campaign[\"target_group\"],df_campaign[\"milestone\"])"
   ]
  },
  {
   "cell_type": "code",
   "execution_count": 104,
   "metadata": {},
   "outputs": [
    {
     "data": {
      "image/png": "[encoded data removed]",
      "text/plain": [
       "<Figure size 432x288 with 2 Axes>"
      ]
     },
     "metadata": {},
     "output_type": "display_data"
    }
   ],
   "source": [
    "ax = sns.heatmap(df_campaign.corr(), annot=True)"
   ]
  },
  {
   "cell_type": "markdown",
   "metadata": {},
   "source": [
    "'mailed_count' and 'response_count', and 'response_count' and 'response_sales_amt' have relatively high positive correlation (0.76 and 0.99 respectively)"
   ]
  },
  {
   "cell_type": "markdown",
   "metadata": {},
   "source": [
    "# Processing the data by addition of metrics for analysis"
   ]
  },
  {
   "cell_type": "code",
   "execution_count": 105,
   "metadata": {},
   "outputs": [
    {
     "data": {
      "text/html": [
       "<div>\n",
       "<style scoped>\n",
       "    .dataframe tbody tr th:only-of-type {\n",
       "        vertical-align: middle;\n",
       "    }\n",
       "\n",
       "    .dataframe tbody tr th {\n",
       "        vertical-align: top;\n",
       "    }\n",
       "\n",
       "    .dataframe thead th {\n",
       "        text-align: right;\n",
       "    }\n",
       "</style>\n",
       "<table border=\"1\" class=\"dataframe\">\n",
       "  <thead>\n",
       "    <tr style=\"text-align: right;\">\n",
       "      <th></th>\n",
       "      <th>prdt_type</th>\n",
       "      <th>brand</th>\n",
       "      <th>milestone</th>\n",
       "      <th>target_group</th>\n",
       "      <th>campaign_month</th>\n",
       "      <th>selected_qty</th>\n",
       "      <th>mailed_count</th>\n",
       "      <th>response_count</th>\n",
       "      <th>response_sales_amt</th>\n",
       "      <th>cust_segment</th>\n",
       "      <th>mail_rate</th>\n",
       "      <th>response_rate</th>\n",
       "      <th>amount_per_response</th>\n",
       "      <th>amount_per_mail</th>\n",
       "    </tr>\n",
       "  </thead>\n",
       "  <tbody>\n",
       "    <tr>\n",
       "      <th>0</th>\n",
       "      <td>Prdt-1</td>\n",
       "      <td>B</td>\n",
       "      <td>12 Months</td>\n",
       "      <td>Targeted</td>\n",
       "      <td>AUGUST</td>\n",
       "      <td>809</td>\n",
       "      <td>809</td>\n",
       "      <td>98</td>\n",
       "      <td>23323.47</td>\n",
       "      <td>CLClubInvite12</td>\n",
       "      <td>1.0</td>\n",
       "      <td>0.121137</td>\n",
       "      <td>237.994592</td>\n",
       "      <td>28.830000</td>\n",
       "    </tr>\n",
       "    <tr>\n",
       "      <th>1</th>\n",
       "      <td>Prdt-1</td>\n",
       "      <td>B</td>\n",
       "      <td>12 Months</td>\n",
       "      <td>Control</td>\n",
       "      <td>AUGUST</td>\n",
       "      <td>90</td>\n",
       "      <td>90</td>\n",
       "      <td>3</td>\n",
       "      <td>686.98</td>\n",
       "      <td>CLClubInvite12Control</td>\n",
       "      <td>1.0</td>\n",
       "      <td>0.033333</td>\n",
       "      <td>228.993333</td>\n",
       "      <td>7.633111</td>\n",
       "    </tr>\n",
       "    <tr>\n",
       "      <th>2</th>\n",
       "      <td>Prdt-1</td>\n",
       "      <td>B</td>\n",
       "      <td>12 Months</td>\n",
       "      <td>Targeted</td>\n",
       "      <td>AUGUST</td>\n",
       "      <td>1769</td>\n",
       "      <td>1769</td>\n",
       "      <td>142</td>\n",
       "      <td>30641.22</td>\n",
       "      <td>CLRecall12</td>\n",
       "      <td>1.0</td>\n",
       "      <td>0.080271</td>\n",
       "      <td>215.783239</td>\n",
       "      <td>17.321210</td>\n",
       "    </tr>\n",
       "    <tr>\n",
       "      <th>3</th>\n",
       "      <td>Prdt-1</td>\n",
       "      <td>B</td>\n",
       "      <td>12 Months</td>\n",
       "      <td>Control</td>\n",
       "      <td>AUGUST</td>\n",
       "      <td>196</td>\n",
       "      <td>196</td>\n",
       "      <td>16</td>\n",
       "      <td>3261.56</td>\n",
       "      <td>CLRecall12Control</td>\n",
       "      <td>1.0</td>\n",
       "      <td>0.081633</td>\n",
       "      <td>203.847500</td>\n",
       "      <td>16.640612</td>\n",
       "    </tr>\n",
       "    <tr>\n",
       "      <th>4</th>\n",
       "      <td>Prdt-1</td>\n",
       "      <td>B</td>\n",
       "      <td>12 Months</td>\n",
       "      <td>Targeted</td>\n",
       "      <td>AUGUST</td>\n",
       "      <td>205</td>\n",
       "      <td>205</td>\n",
       "      <td>16</td>\n",
       "      <td>2848.48</td>\n",
       "      <td>CLRecallTXandCA12</td>\n",
       "      <td>1.0</td>\n",
       "      <td>0.078049</td>\n",
       "      <td>178.030000</td>\n",
       "      <td>13.895024</td>\n",
       "    </tr>\n",
       "  </tbody>\n",
       "</table>\n",
       "</div>"
      ],
      "text/plain": [
       "  prdt_type brand  milestone target_group campaign_month  selected_qty  \\\n",
       "0    Prdt-1     B  12 Months     Targeted         AUGUST           809   \n",
       "1    Prdt-1     B  12 Months      Control         AUGUST            90   \n",
       "2    Prdt-1     B  12 Months     Targeted         AUGUST          1769   \n",
       "3    Prdt-1     B  12 Months      Control         AUGUST           196   \n",
       "4    Prdt-1     B  12 Months     Targeted         AUGUST           205   \n",
       "\n",
       "   mailed_count  response_count  response_sales_amt           cust_segment  \\\n",
       "0           809              98            23323.47         CLClubInvite12   \n",
       "1            90               3              686.98  CLClubInvite12Control   \n",
       "2          1769             142            30641.22             CLRecall12   \n",
       "3           196              16             3261.56      CLRecall12Control   \n",
       "4           205              16             2848.48      CLRecallTXandCA12   \n",
       "\n",
       "   mail_rate  response_rate  amount_per_response  amount_per_mail  \n",
       "0        1.0       0.121137           237.994592        28.830000  \n",
       "1        1.0       0.033333           228.993333         7.633111  \n",
       "2        1.0       0.080271           215.783239        17.321210  \n",
       "3        1.0       0.081633           203.847500        16.640612  \n",
       "4        1.0       0.078049           178.030000        13.895024  "
      ]
     },
     "execution_count": 105,
     "metadata": {},
     "output_type": "execute_result"
    }
   ],
   "source": [
    "df_campaign[\"mail_rate\"] = (df_campaign[\"mailed_count\"]/df_campaign[\"selected_qty\"])\n",
    "df_campaign[\"response_rate\"] = (df_campaign[\"response_count\"]/df_campaign[\"mailed_count\"])\n",
    "df_campaign[\"amount_per_response\"] = (df_campaign[\"response_sales_amt\"]/df_campaign[\"response_count\"])\n",
    "df_campaign[\"amount_per_mail\"] = (df_campaign[\"response_sales_amt\"]/df_campaign[\"mailed_count\"])\n",
    "df_campaign.head()"
   ]
  },
  {
   "cell_type": "markdown",
   "metadata": {},
   "source": [
    "# Statistical tests for testing hypotheses "
   ]
  },
  {
   "cell_type": "code",
   "execution_count": 42,
   "metadata": {},
   "outputs": [
    {
     "name": "stdout",
     "output_type": "stream",
     "text": [
      "(nan, 1.0)   (0.8433917760848999, 2.4102333586386854e-43)   (0.8300217986106873, 1.2611686178923354e-44)   (0.8305805325508118, 1.3637269040679335e-33)   (0.8343371152877808, 2.6785473656699058e-33)\n"
     ]
    }
   ],
   "source": [
    "print(stats.shapiro(df_campaign[\"amount_per_response\"]), \" \",\n",
    "stats.shapiro(df_campaign[\"amount_per_mail\"]), \" \",stats.shapiro(df_campaign[\"response_rate\"]),\" \",\n",
    "     stats.shapiro(df_campaign[df_campaign[\"target_group\"] == 'Targeted'][\"amount_per_mail\"]), \" \",\n",
    "     stats.shapiro(df_campaign[df_campaign[\"target_group\"] == 'Control'][\"amount_per_mail\"]))"
   ]
  },
  {
   "cell_type": "markdown",
   "metadata": {},
   "source": [
    "p-value for Normality test is less than 0.05 and hence the response details are not normally distributed"
   ]
  },
  {
   "cell_type": "code",
   "execution_count": 106,
   "metadata": {},
   "outputs": [
    {
     "name": "stdout",
     "output_type": "stream",
     "text": [
      "WilcoxonResult(statistic=263566.0, pvalue=6.356639728904065e-12) \n",
      "               amount_per_mail  amount_per_response  response_rate\n",
      "target_group                                                     \n",
      "Control              5.489551           205.646218       0.026464\n",
      "Targeted             6.647450           214.548810       0.028421\n"
     ]
    },
    {
     "name": "stderr",
     "output_type": "stream",
     "text": [
      "C:\\ProgramData\\Anaconda3\\lib\\site-packages\\scipy\\stats\\stats.py:1713: FutureWarning: Using a non-tuple sequence for multidimensional indexing is deprecated; use `arr[tuple(seq)]` instead of `arr[seq]`. In the future this will be interpreted as an array index, `arr[np.array(seq)]`, which will result either in an error or a different result.\n",
      "  return np.add.reduce(sorted[indexer] * weights, axis=axis) / sumval\n"
     ]
    },
    {
     "data": {
      "image/png": "[encoded data removed]",
      "text/plain": [
       "<Figure size 432x288 with 1 Axes>"
      ]
     },
     "metadata": {},
     "output_type": "display_data"
    }
   ],
   "source": [
    "print(stats.wilcoxon(x = df_campaign[df_campaign[\"target_group\"] == 'Targeted'][\"amount_per_mail\"], \n",
    "               y = df_campaign[df_campaign[\"target_group\"] == 'Control'][\"amount_per_mail\"]), \"\\n\",\n",
    "      df_campaign.pivot_table(\n",
    "    [\"amount_per_mail\", \"response_rate\", \"amount_per_response\"],\n",
    "    [\"target_group\"],\n",
    "    aggfunc=\"median\",\n",
    "))\n",
    "\n",
    "sns.barplot(x=df_campaign[\"target_group\"], y=df_campaign[\"response_rate\"])\n",
    "plt.savefig('response_rate vs target_group')"
   ]
  },
  {
   "cell_type": "markdown",
   "metadata": {},
   "source": [
    "A p-value of less than 0.05 (Wilcoxon test for non-normal distribution) and subsquent comparison of median values of 'amount_per_mail', 'amount_per_response' and 'response_rate' indicates quantitatively better reponse and sales for 'Targeted' group"
   ]
  },
  {
   "cell_type": "code",
   "execution_count": 107,
   "metadata": {},
   "outputs": [],
   "source": [
    "df_campaign[\"conversion_apm\"] = df_campaign[\"amount_per_mail\"].ge(df_campaign[\"amount_per_mail\"].mean())"
   ]
  },
  {
   "cell_type": "code",
   "execution_count": 108,
   "metadata": {},
   "outputs": [],
   "source": [
    "df_campaign[\"conversion_apm\"] = df_campaign[\"conversion_apm\"].astype(\"int\")"
   ]
  },
  {
   "cell_type": "code",
   "execution_count": 109,
   "metadata": {},
   "outputs": [
    {
     "data": {
      "image/png": "[encoded data removed]",
      "text/plain": [
       "<Figure size 432x288 with 1 Axes>"
      ]
     },
     "metadata": {},
     "output_type": "display_data"
    }
   ],
   "source": [
    "sns.countplot(x=df_campaign[\"conversion_apm\"], hue=df_campaign[\"target_group\"])\n",
    "plt.savefig('conversion_apm vs target_group')"
   ]
  },
  {
   "cell_type": "code",
   "execution_count": 110,
   "metadata": {},
   "outputs": [
    {
     "name": "stdout",
     "output_type": "stream",
     "text": [
      "<class 'pandas.core.frame.DataFrame'>\n",
      "RangeIndex: 2360 entries, 0 to 2359\n",
      "Data columns (total 14 columns):\n",
      "prdt_type              2360 non-null object\n",
      "brand                  2360 non-null object\n",
      "milestone              2360 non-null object\n",
      "target_group           2360 non-null object\n",
      "campaign_month         2360 non-null object\n",
      "selected_qty           2360 non-null int64\n",
      "mailed_count           2360 non-null int64\n",
      "response_count         2360 non-null int64\n",
      "response_sales_amt     2360 non-null float64\n",
      "mail_rate              2360 non-null float64\n",
      "response_rate          2360 non-null float64\n",
      "amount_per_response    2178 non-null float64\n",
      "amount_per_mail        2360 non-null float64\n",
      "conversion_apm         2360 non-null int32\n",
      "dtypes: float64(5), int32(1), int64(3), object(5)\n",
      "memory usage: 249.0+ KB\n"
     ]
    }
   ],
   "source": [
    "df_campaign_new = df_campaign.loc[:, df_campaign.columns != \"cust_segment\" ]\n",
    "df_campaign_new.info()"
   ]
  },
  {
   "cell_type": "code",
   "execution_count": 113,
   "metadata": {},
   "outputs": [
    {
     "name": "stderr",
     "output_type": "stream",
     "text": [
      "C:\\ProgramData\\Anaconda3\\lib\\site-packages\\pandas\\core\\frame.py:3694: SettingWithCopyWarning: \n",
      "A value is trying to be set on a copy of a slice from a DataFrame\n",
      "\n",
      "See the caveats in the documentation: http://pandas.pydata.org/pandas-docs/stable/indexing.html#indexing-view-versus-copy\n",
      "  errors=errors)\n"
     ]
    }
   ],
   "source": [
    "prdt_type = pd.get_dummies(df_campaign_new[\"prdt_type\"], drop_first = True)\n",
    "brand = pd.get_dummies(df_campaign_new[\"brand\"], drop_first = True)\n",
    "milestone = pd.get_dummies(df_campaign_new[\"milestone\"], drop_first = True)\n",
    "target_group = pd.get_dummies(df_campaign_new[\"target_group\"], drop_first = True)\n",
    "campaign_month = pd.get_dummies(df_campaign_new[\"campaign_month\"], drop_first = True)\n",
    "#cust_segment = pd.get_dummies(df_campaign_new[\"cust_segment\"], drop_first = True)\n",
    "\n",
    "df_campaign_new.drop([\"prdt_type\",\"brand\", \"milestone\", \"target_group\",\"campaign_month\", \"mailed_count\",\"response_sales_amt\"\n",
    "        ,\"mail_rate\", \"response_rate\",\"amount_per_response\",\"amount_per_mail\"],axis=1,inplace=True)\n",
    "\n",
    "df_campaign_new = pd.concat([df_campaign_new, prdt_type, brand, milestone, target_group, campaign_month], axis = 1)\n"
   ]
  },
  {
   "cell_type": "code",
   "execution_count": 114,
   "metadata": {},
   "outputs": [
    {
     "name": "stdout",
     "output_type": "stream",
     "text": [
      "Optimization terminated successfully.\n",
      "         Current function value: 0.503585\n",
      "         Iterations 6\n",
      "                          Results: Logit\n",
      "==================================================================\n",
      "Model:              Logit            Pseudo R-squared: 0.237      \n",
      "Dependent Variable: conversion_apm   AIC:              2416.9225  \n",
      "Date:               2023-01-17 06:33 BIC:              2532.2509  \n",
      "No. Observations:   2360             Log-Likelihood:   -1188.5    \n",
      "Df Model:           19               LL-Null:          -1557.7    \n",
      "Df Residuals:       2340             LLR p-value:      2.5724e-144\n",
      "Converged:          1.0000           Scale:            1.0000     \n",
      "No. Iterations:     6.0000                                        \n",
      "------------------------------------------------------------------\n",
      "                   Coef.  Std.Err.    z     P>|z|   [0.025  0.975]\n",
      "------------------------------------------------------------------\n",
      "selected_qty       0.0000   0.0000   1.6553 0.0979 -0.0000  0.0000\n",
      "response_count     0.0034   0.0008   4.3216 0.0000  0.0019  0.0049\n",
      "Prdt-2            -0.6482   0.1086  -5.9674 0.0000 -0.8611 -0.4353\n",
      "C                  0.8433   0.1956   4.3118 0.0000  0.4600  1.2267\n",
      "D                 -0.0056   0.1516  -0.0369 0.9706 -0.3027  0.2915\n",
      "E                 -0.8884   0.1277  -6.9556 0.0000 -1.1387 -0.6380\n",
      "15 Months         -1.7500   0.1780  -9.8334 0.0000 -2.0988 -1.4012\n",
      "18 Months         -2.4674   0.1782 -13.8499 0.0000 -2.8166 -2.1183\n",
      "21 Months         -2.8279   0.1958 -14.4450 0.0000 -3.2116 -2.4442\n",
      "24 Months         -2.2202   0.1747 -12.7083 0.0000 -2.5626 -1.8778\n",
      "27 Months         -3.4914   0.2393 -14.5912 0.0000 -3.9604 -3.0225\n",
      "Targeted           0.0991   0.1135   0.8724 0.3830 -0.1235  0.3216\n",
      "AUGUST             1.5886   0.2191   7.2492 0.0000  1.1591  2.0181\n",
      "DECEMBER           2.5516   0.2164  11.7887 0.0000  2.1274  2.9759\n",
      "JANUARY            2.8228   0.2175  12.9772 0.0000  2.3965  3.2491\n",
      "JULY               2.0878   0.2132   9.7917 0.0000  1.6699  2.5057\n",
      "JUNE               1.7593   0.2126   8.2762 0.0000  1.3427  2.1760\n",
      "MAY                1.6026   0.2640   6.0710 0.0000  1.0852  2.1200\n",
      "NOVEMBER           2.0099   0.2142   9.3827 0.0000  1.5900  2.4297\n",
      "OCTOBER            1.3057   0.2054   6.3573 0.0000  0.9031  1.7082\n",
      "==================================================================\n",
      "\n"
     ]
    }
   ],
   "source": [
    "logit_model=sm.Logit(df_campaign_new[\"conversion_apm\"],df_campaign_new.loc[:, df_campaign_new.columns != \"conversion_apm\" ])\n",
    "result=logit_model.fit()\n",
    "print(result.summary2())"
   ]
  },
  {
   "cell_type": "markdown",
   "metadata": {},
   "source": [
    "With respect to Prdt-1, Prdt-2's conversion (amount per mail) odds ratio decreases by exp(-0.6482), similarly with respect to Control group, Targeted group has higher odds of conversion, and brand C also has relatively higher conversion odds"
   ]
  },
  {
   "cell_type": "code",
   "execution_count": 128,
   "metadata": {},
   "outputs": [
    {
     "data": {
      "image/png": "[encoded data removed]",
      "text/plain": [
       "<Figure size 1800x432 with 1 Axes>"
      ]
     },
     "metadata": {},
     "output_type": "display_data"
    }
   ],
   "source": [
    "from sklearn.linear_model import LogisticRegression\n",
    "from sklearn import metrics\n",
    "X_train, X_test, y_train, y_test = train_test_split(df_campaign_new.loc[:, df_campaign_new.columns != \"conversion_apm\" ], df_campaign_new[\"conversion_apm\"], test_size=0.2, random_state=0)\n",
    "logreg = LogisticRegression()\n",
    "logreg.fit(X_train, y_train)\n",
    "importance = logreg.coef_[0]\n",
    "\n",
    "fig, ax = plt.subplots(figsize=(25, 6))\n",
    "sns.barplot (x=X_train.columns, y = importance, ax=ax)\n",
    "plt.savefig('feature importance')"
   ]
  },
  {
   "cell_type": "code",
   "execution_count": 141,
   "metadata": {},
   "outputs": [],
   "source": [
    "df_campaign_new[\"apm_conversion_probab\"] = logreg.predict_proba(df_campaign_new.loc[:, df_campaign_new.columns != \"conversion_apm\"])[:,0]"
   ]
  },
  {
   "cell_type": "code",
   "execution_count": 144,
   "metadata": {},
   "outputs": [],
   "source": [
    "df_campaign_new.to_excel(\"Campaign details with probability.xlsx\")"
   ]
  },
  {
   "cell_type": "code",
   "execution_count": null,
   "metadata": {},
   "outputs": [],
   "source": []
  }
 ],
 "metadata": {
  "kernelspec": {
   "display_name": "Python 3",
   "language": "python",
   "name": "python3"
  },
  "language_info": {
   "codemirror_mode": {
    "name": "ipython",
    "version": 3
   },
   "file_extension": ".py",
   "mimetype": "text/x-python",
   "name": "python",
   "nbconvert_exporter": "python",
   "pygments_lexer": "ipython3",
   "version": "3.6.5"
  }
 },
 "nbformat": 4,
 "nbformat_minor": 2
}
